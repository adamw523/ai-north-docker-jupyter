{
 "cells": [
  {
   "cell_type": "code",
   "execution_count": 1,
   "metadata": {
    "collapsed": false
   },
   "outputs": [],
   "source": [
    "import pymysql\n",
    "import pandas as pd"
   ]
  },
  {
   "cell_type": "markdown",
   "metadata": {},
   "source": [
    "## Connect to datbase and read in to a `DataFrame`"
   ]
  },
  {
   "cell_type": "code",
   "execution_count": 2,
   "metadata": {
    "collapsed": false
   },
   "outputs": [],
   "source": [
    "conn = pymysql.connect(host='db', port=3306, user='root', passwd='password', db='wikipedia')\n",
    "df_mysql = pd.read_sql('select * from geo_tags;', con=conn)\n",
    "conn.close()"
   ]
  },
  {
   "cell_type": "markdown",
   "metadata": {},
   "source": [
    "## Count"
   ]
  },
  {
   "cell_type": "code",
   "execution_count": 3,
   "metadata": {
    "collapsed": false
   },
   "outputs": [
    {
     "data": {
      "text/plain": [
       "38092"
      ]
     },
     "execution_count": 3,
     "metadata": {},
     "output_type": "execute_result"
    }
   ],
   "source": [
    "len(df_mysql)"
   ]
  },
  {
   "cell_type": "markdown",
   "metadata": {},
   "source": [
    "## Top rows"
   ]
  },
  {
   "cell_type": "code",
   "execution_count": 4,
   "metadata": {
    "collapsed": false
   },
   "outputs": [
    {
     "data": {
      "text/html": [
       "<div>\n",
       "<table border=\"1\" class=\"dataframe\">\n",
       "  <thead>\n",
       "    <tr style=\"text-align: right;\">\n",
       "      <th></th>\n",
       "      <th>gt_id</th>\n",
       "      <th>gt_page_id</th>\n",
       "      <th>gt_globe</th>\n",
       "      <th>gt_primary</th>\n",
       "      <th>gt_lat</th>\n",
       "      <th>gt_lon</th>\n",
       "      <th>gt_dim</th>\n",
       "      <th>gt_type</th>\n",
       "      <th>gt_name</th>\n",
       "      <th>gt_country</th>\n",
       "      <th>gt_region</th>\n",
       "    </tr>\n",
       "  </thead>\n",
       "  <tbody>\n",
       "    <tr>\n",
       "      <th>0</th>\n",
       "      <td>89</td>\n",
       "      <td>20941111</td>\n",
       "      <td>b'earth'</td>\n",
       "      <td>0</td>\n",
       "      <td>90.00</td>\n",
       "      <td>12.0</td>\n",
       "      <td>10000.0</td>\n",
       "      <td>b'waterbody'</td>\n",
       "      <td>b'Arctic Ocean'</td>\n",
       "      <td>None</td>\n",
       "      <td>None</td>\n",
       "    </tr>\n",
       "    <tr>\n",
       "      <th>1</th>\n",
       "      <td>98</td>\n",
       "      <td>20941111</td>\n",
       "      <td>b'earth'</td>\n",
       "      <td>0</td>\n",
       "      <td>63.25</td>\n",
       "      <td>12.0</td>\n",
       "      <td>1000000.0</td>\n",
       "      <td>b'country'</td>\n",
       "      <td>b'Norway'</td>\n",
       "      <td>None</td>\n",
       "      <td>None</td>\n",
       "    </tr>\n",
       "    <tr>\n",
       "      <th>2</th>\n",
       "      <td>109</td>\n",
       "      <td>20941111</td>\n",
       "      <td>b'earth'</td>\n",
       "      <td>0</td>\n",
       "      <td>33.00</td>\n",
       "      <td>12.0</td>\n",
       "      <td>1000000.0</td>\n",
       "      <td>b'country'</td>\n",
       "      <td>b'Libya'</td>\n",
       "      <td>None</td>\n",
       "      <td>None</td>\n",
       "    </tr>\n",
       "    <tr>\n",
       "      <th>3</th>\n",
       "      <td>112</td>\n",
       "      <td>20941111</td>\n",
       "      <td>b'earth'</td>\n",
       "      <td>0</td>\n",
       "      <td>7.50</td>\n",
       "      <td>12.0</td>\n",
       "      <td>1000000.0</td>\n",
       "      <td>b'country'</td>\n",
       "      <td>b'Cameroon'</td>\n",
       "      <td>None</td>\n",
       "      <td>None</td>\n",
       "    </tr>\n",
       "    <tr>\n",
       "      <th>4</th>\n",
       "      <td>115</td>\n",
       "      <td>20941111</td>\n",
       "      <td>b'earth'</td>\n",
       "      <td>0</td>\n",
       "      <td>-2.95</td>\n",
       "      <td>12.0</td>\n",
       "      <td>1000000.0</td>\n",
       "      <td>b'country'</td>\n",
       "      <td>b'Gabon'</td>\n",
       "      <td>None</td>\n",
       "      <td>None</td>\n",
       "    </tr>\n",
       "  </tbody>\n",
       "</table>\n",
       "</div>"
      ],
      "text/plain": [
       "   gt_id  gt_page_id  gt_globe  gt_primary  gt_lat  gt_lon     gt_dim  \\\n",
       "0     89    20941111  b'earth'           0   90.00    12.0    10000.0   \n",
       "1     98    20941111  b'earth'           0   63.25    12.0  1000000.0   \n",
       "2    109    20941111  b'earth'           0   33.00    12.0  1000000.0   \n",
       "3    112    20941111  b'earth'           0    7.50    12.0  1000000.0   \n",
       "4    115    20941111  b'earth'           0   -2.95    12.0  1000000.0   \n",
       "\n",
       "        gt_type          gt_name gt_country gt_region  \n",
       "0  b'waterbody'  b'Arctic Ocean'       None      None  \n",
       "1    b'country'        b'Norway'       None      None  \n",
       "2    b'country'         b'Libya'       None      None  \n",
       "3    b'country'      b'Cameroon'       None      None  \n",
       "4    b'country'         b'Gabon'       None      None  "
      ]
     },
     "execution_count": 4,
     "metadata": {},
     "output_type": "execute_result"
    }
   ],
   "source": [
    "df_mysql.head()"
   ]
  },
  {
   "cell_type": "markdown",
   "metadata": {},
   "source": [
    "## Grouping"
   ]
  },
  {
   "cell_type": "code",
   "execution_count": 55,
   "metadata": {
    "collapsed": false
   },
   "outputs": [
    {
     "data": {
      "text/html": [
       "<div>\n",
       "<table border=\"1\" class=\"dataframe\">\n",
       "  <thead>\n",
       "    <tr style=\"text-align: right;\">\n",
       "      <th></th>\n",
       "      <th>count</th>\n",
       "    </tr>\n",
       "  </thead>\n",
       "  <tbody>\n",
       "    <tr>\n",
       "      <th>2546139</th>\n",
       "      <td>727</td>\n",
       "    </tr>\n",
       "    <tr>\n",
       "      <th>12100827</th>\n",
       "      <td>160</td>\n",
       "    </tr>\n",
       "    <tr>\n",
       "      <th>12278284</th>\n",
       "      <td>156</td>\n",
       "    </tr>\n",
       "    <tr>\n",
       "      <th>12323686</th>\n",
       "      <td>147</td>\n",
       "    </tr>\n",
       "    <tr>\n",
       "      <th>12100792</th>\n",
       "      <td>145</td>\n",
       "    </tr>\n",
       "  </tbody>\n",
       "</table>\n",
       "</div>"
      ],
      "text/plain": [
       "          count\n",
       "2546139     727\n",
       "12100827    160\n",
       "12278284    156\n",
       "12323686    147\n",
       "12100792    145"
      ]
     },
     "execution_count": 55,
     "metadata": {},
     "output_type": "execute_result"
    }
   ],
   "source": [
    "grouped_series = df_mysql.groupby('gt_page_id').size().sort_values(ascending=False)\n",
    "\n",
    "grouped_df = pd.DataFrame(index=grouped_series.index.values, data=grouped_series.values, columns=['count'])\n",
    "\n",
    "grouped_df.head()"
   ]
  },
  {
   "cell_type": "code",
   "execution_count": 57,
   "metadata": {
    "collapsed": false
   },
   "outputs": [
    {
     "data": {
      "text/html": [
       "<div>\n",
       "<table border=\"1\" class=\"dataframe\">\n",
       "  <thead>\n",
       "    <tr style=\"text-align: right;\">\n",
       "      <th></th>\n",
       "      <th>count</th>\n",
       "      <th>url</th>\n",
       "    </tr>\n",
       "  </thead>\n",
       "  <tbody>\n",
       "    <tr>\n",
       "      <th>2546139</th>\n",
       "      <td>727</td>\n",
       "      <td>https://en.wikipedia.org/?curid=2546139</td>\n",
       "    </tr>\n",
       "    <tr>\n",
       "      <th>12100827</th>\n",
       "      <td>160</td>\n",
       "      <td>https://en.wikipedia.org/?curid=12100827</td>\n",
       "    </tr>\n",
       "    <tr>\n",
       "      <th>12278284</th>\n",
       "      <td>156</td>\n",
       "      <td>https://en.wikipedia.org/?curid=12278284</td>\n",
       "    </tr>\n",
       "    <tr>\n",
       "      <th>12323686</th>\n",
       "      <td>147</td>\n",
       "      <td>https://en.wikipedia.org/?curid=12323686</td>\n",
       "    </tr>\n",
       "    <tr>\n",
       "      <th>12100792</th>\n",
       "      <td>145</td>\n",
       "      <td>https://en.wikipedia.org/?curid=12100792</td>\n",
       "    </tr>\n",
       "  </tbody>\n",
       "</table>\n",
       "</div>"
      ],
      "text/plain": [
       "          count                                       url\n",
       "2546139     727   https://en.wikipedia.org/?curid=2546139\n",
       "12100827    160  https://en.wikipedia.org/?curid=12100827\n",
       "12278284    156  https://en.wikipedia.org/?curid=12278284\n",
       "12323686    147  https://en.wikipedia.org/?curid=12323686\n",
       "12100792    145  https://en.wikipedia.org/?curid=12100792"
      ]
     },
     "execution_count": 57,
     "metadata": {},
     "output_type": "execute_result"
    }
   ],
   "source": [
    "grouped_df['url'] = grouped_df.index.map(lambda x: \"https://en.wikipedia.org/?curid=\" + str(x))\n",
    "grouped_df.head()"
   ]
  },
  {
   "cell_type": "code",
   "execution_count": null,
   "metadata": {
    "collapsed": false
   },
   "outputs": [],
   "source": []
  },
  {
   "cell_type": "code",
   "execution_count": null,
   "metadata": {
    "collapsed": true
   },
   "outputs": [],
   "source": []
  }
 ],
 "metadata": {
  "kernelspec": {
   "display_name": "Python 3",
   "language": "python",
   "name": "python3"
  },
  "language_info": {
   "codemirror_mode": {
    "name": "ipython",
    "version": 3
   },
   "file_extension": ".py",
   "mimetype": "text/x-python",
   "name": "python",
   "nbconvert_exporter": "python",
   "pygments_lexer": "ipython3",
   "version": "3.5.2"
  }
 },
 "nbformat": 4,
 "nbformat_minor": 0
}
